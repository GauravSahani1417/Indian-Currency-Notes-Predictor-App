{
 "cells": [
  {
   "cell_type": "code",
   "execution_count": 1,
   "metadata": {},
   "outputs": [],
   "source": [
    "# import the libraries as shown below\n",
    "\n",
    "from tensorflow.keras.layers import Input, Lambda, Dense, Flatten\n",
    "from tensorflow.keras.models import Model\n",
    "from tensorflow.keras.preprocessing import image\n",
    "from tensorflow.keras.preprocessing.image import ImageDataGenerator,load_img\n",
    "from tensorflow.keras.models import Sequential\n",
    "from tensorflow.keras.layers import MaxPooling2D\n",
    "from tensorflow.keras.layers import Conv2D\n",
    "\n",
    "import numpy as np\n",
    "from glob import glob"
   ]
  },
  {
   "cell_type": "code",
   "execution_count": 2,
   "metadata": {},
   "outputs": [],
   "source": [
    "# re-size all the images to this\n",
    "IMAGE_SIZE = [224, 224]\n",
    "\n",
    "train_path = 'C:/Users/gaurav sahani/Desktop/Deep Learning Projects/Indian Currency Classifier/Datasets/Train'\n",
    "valid_path = 'C:/Users/gaurav sahani/Desktop/Deep Learning Projects/Indian Currency Classifier/Datasets/Test'"
   ]
  },
  {
   "cell_type": "code",
   "execution_count": 3,
   "metadata": {},
   "outputs": [],
   "source": [
    "# useful for getting number of output classes\n",
    "folders = glob('C:/Users/gaurav sahani/Desktop/Deep Learning Projects/Indian Currency Classifier/Datasets/Train/*')"
   ]
  },
  {
   "cell_type": "code",
   "execution_count": 4,
   "metadata": {},
   "outputs": [
    {
     "data": {
      "text/plain": [
       "['C:/Users/gaurav sahani/Desktop/Deep Learning Projects/Indian Currency Classifier/Datasets/Train\\\\1Hundrednote',\n",
       " 'C:/Users/gaurav sahani/Desktop/Deep Learning Projects/Indian Currency Classifier/Datasets/Train\\\\2Hundrednote',\n",
       " 'C:/Users/gaurav sahani/Desktop/Deep Learning Projects/Indian Currency Classifier/Datasets/Train\\\\2Thousandnote',\n",
       " 'C:/Users/gaurav sahani/Desktop/Deep Learning Projects/Indian Currency Classifier/Datasets/Train\\\\5Hundrednote',\n",
       " 'C:/Users/gaurav sahani/Desktop/Deep Learning Projects/Indian Currency Classifier/Datasets/Train\\\\Fiftynote',\n",
       " 'C:/Users/gaurav sahani/Desktop/Deep Learning Projects/Indian Currency Classifier/Datasets/Train\\\\Tennote',\n",
       " 'C:/Users/gaurav sahani/Desktop/Deep Learning Projects/Indian Currency Classifier/Datasets/Train\\\\Twentynote']"
      ]
     },
     "execution_count": 4,
     "metadata": {},
     "output_type": "execute_result"
    }
   ],
   "source": [
    "folders"
   ]
  },
  {
   "cell_type": "code",
   "execution_count": 15,
   "metadata": {},
   "outputs": [],
   "source": [
    "Classifier=Sequential()\n",
    "\n",
    "Classifier.add(Conv2D(32,(3,3), input_shape=(224,224,3), activation='relu'))\n",
    "Classifier.add(MaxPooling2D(pool_size=(2,2)))\n",
    "\n",
    "Classifier.add(Conv2D(32,(3,3),activation='relu'))\n",
    "Classifier.add(MaxPooling2D(pool_size=(2,2)))\n",
    "\n",
    "Classifier.add(Flatten())\n",
    "\n",
    "Classifier.add(Dense(units = 128, activation = 'relu'))\n",
    "Classifier.add(Dense(units = 7, activation = 'softmax'))"
   ]
  },
  {
   "cell_type": "code",
   "execution_count": 16,
   "metadata": {},
   "outputs": [],
   "source": [
    "# tell the model what cost and optimization method to use\n",
    "Classifier.compile(\n",
    "  loss='categorical_crossentropy',\n",
    "  optimizer='adam',\n",
    "  metrics=['accuracy']\n",
    ")"
   ]
  },
  {
   "cell_type": "code",
   "execution_count": 17,
   "metadata": {},
   "outputs": [],
   "source": [
    "# Use the Image Data Generator to import the images from the dataset\n",
    "from tensorflow.keras.preprocessing.image import ImageDataGenerator\n",
    "\n",
    "train_datagen = ImageDataGenerator(rescale = 1./255,\n",
    "                                   height_shift_range=0.2,\n",
    "                                   featurewise_center=True,\n",
    "                                   rotation_range=0.4,\n",
    "                                   horizontal_flip = True)\n",
    "\n",
    "test_datagen = ImageDataGenerator(rescale = 1./255,)"
   ]
  },
  {
   "cell_type": "code",
   "execution_count": 18,
   "metadata": {},
   "outputs": [
    {
     "name": "stdout",
     "output_type": "stream",
     "text": [
      "Found 153 images belonging to 7 classes.\n"
     ]
    }
   ],
   "source": [
    "# Make sure you provide the same target size as initialied for the image size\n",
    "training_set = train_datagen.flow_from_directory('C:/Users/gaurav sahani/Desktop/Deep Learning Projects/Indian Currency Classifier/Datasets/Train',\n",
    "                                                 target_size = (224, 224),\n",
    "                                                 batch_size = 32,\n",
    "                                                 class_mode = 'categorical')"
   ]
  },
  {
   "cell_type": "code",
   "execution_count": 19,
   "metadata": {},
   "outputs": [
    {
     "name": "stdout",
     "output_type": "stream",
     "text": [
      "Found 42 images belonging to 7 classes.\n"
     ]
    }
   ],
   "source": [
    "test_set = test_datagen.flow_from_directory('C:/Users/gaurav sahani/Desktop/Deep Learning Projects/Indian Currency Classifier/Datasets/Test',\n",
    "                                            target_size = (224, 224),\n",
    "                                            batch_size = 32,\n",
    "                                            class_mode = 'categorical')"
   ]
  },
  {
   "cell_type": "code",
   "execution_count": 20,
   "metadata": {
    "scrolled": false
   },
   "outputs": [
    {
     "name": "stdout",
     "output_type": "stream",
     "text": [
      "Epoch 1/50\n",
      "5/5 [==============================] - ETA: 0s - loss: 9.1315 - accuracy: 0.1176 "
     ]
    },
    {
     "name": "stderr",
     "output_type": "stream",
     "text": [
      "D:\\anaconda\\lib\\site-packages\\PIL\\TiffImagePlugin.py:788: UserWarning: Corrupt EXIF data.  Expecting to read 4 bytes but only got 0. \n",
      "  warnings.warn(str(msg))\n"
     ]
    },
    {
     "name": "stdout",
     "output_type": "stream",
     "text": [
      "5/5 [==============================] - 5s 1s/step - loss: 9.1315 - accuracy: 0.1176 - val_loss: 3.3084 - val_accuracy: 0.1429\n",
      "Epoch 2/50\n",
      "5/5 [==============================] - 5s 1s/step - loss: 2.3602 - accuracy: 0.1438 - val_loss: 1.9818 - val_accuracy: 0.1429\n",
      "Epoch 3/50\n",
      "5/5 [==============================] - 5s 1s/step - loss: 1.9543 - accuracy: 0.1895 - val_loss: 1.9302 - val_accuracy: 0.1667\n",
      "Epoch 4/50\n",
      "5/5 [==============================] - 5s 994ms/step - loss: 1.9337 - accuracy: 0.1634 - val_loss: 1.8783 - val_accuracy: 0.2143\n",
      "Epoch 5/50\n",
      "5/5 [==============================] - 5s 975ms/step - loss: 1.8729 - accuracy: 0.2876 - val_loss: 1.7773 - val_accuracy: 0.2857\n",
      "Epoch 6/50\n",
      "5/5 [==============================] - 5s 953ms/step - loss: 1.7916 - accuracy: 0.2810 - val_loss: 1.7543 - val_accuracy: 0.3571\n",
      "Epoch 7/50\n",
      "5/5 [==============================] - 5s 1s/step - loss: 1.7483 - accuracy: 0.3529 - val_loss: 1.6608 - val_accuracy: 0.3810\n",
      "Epoch 8/50\n",
      "5/5 [==============================] - 5s 1s/step - loss: 1.6227 - accuracy: 0.3203 - val_loss: 1.5615 - val_accuracy: 0.3095\n",
      "Epoch 9/50\n",
      "5/5 [==============================] - 5s 981ms/step - loss: 1.4725 - accuracy: 0.4771 - val_loss: 1.3345 - val_accuracy: 0.5238\n",
      "Epoch 10/50\n",
      "5/5 [==============================] - 5s 979ms/step - loss: 1.3693 - accuracy: 0.4837 - val_loss: 1.3899 - val_accuracy: 0.4762\n",
      "Epoch 11/50\n",
      "5/5 [==============================] - 5s 981ms/step - loss: 1.3162 - accuracy: 0.4444 - val_loss: 1.0874 - val_accuracy: 0.5238\n",
      "Epoch 12/50\n",
      "5/5 [==============================] - 5s 994ms/step - loss: 1.1240 - accuracy: 0.6209 - val_loss: 1.0736 - val_accuracy: 0.5238\n",
      "Epoch 13/50\n",
      "5/5 [==============================] - 5s 954ms/step - loss: 0.9751 - accuracy: 0.6405 - val_loss: 1.0413 - val_accuracy: 0.5714\n",
      "Epoch 14/50\n",
      "5/5 [==============================] - 5s 990ms/step - loss: 0.9734 - accuracy: 0.6144 - val_loss: 1.0861 - val_accuracy: 0.5952\n",
      "Epoch 15/50\n",
      "5/5 [==============================] - 5s 1s/step - loss: 0.8788 - accuracy: 0.6732 - val_loss: 1.0619 - val_accuracy: 0.5476\n",
      "Epoch 16/50\n",
      "5/5 [==============================] - 5s 1s/step - loss: 0.7530 - accuracy: 0.7255 - val_loss: 0.9208 - val_accuracy: 0.6667\n",
      "Epoch 17/50\n",
      "5/5 [==============================] - 5s 995ms/step - loss: 0.6837 - accuracy: 0.7647 - val_loss: 1.0452 - val_accuracy: 0.5952\n",
      "Epoch 18/50\n",
      "5/5 [==============================] - 5s 988ms/step - loss: 0.5706 - accuracy: 0.8170 - val_loss: 0.8645 - val_accuracy: 0.6667\n",
      "Epoch 19/50\n",
      "5/5 [==============================] - 5s 1s/step - loss: 0.5507 - accuracy: 0.8170 - val_loss: 0.9591 - val_accuracy: 0.6667\n",
      "Epoch 20/50\n",
      "5/5 [==============================] - 5s 983ms/step - loss: 0.4961 - accuracy: 0.7974 - val_loss: 0.9041 - val_accuracy: 0.6190\n",
      "Epoch 21/50\n",
      "5/5 [==============================] - 5s 984ms/step - loss: 0.5337 - accuracy: 0.8170 - val_loss: 0.9521 - val_accuracy: 0.5714\n",
      "Epoch 22/50\n",
      "5/5 [==============================] - 5s 992ms/step - loss: 0.7625 - accuracy: 0.7059 - val_loss: 1.0371 - val_accuracy: 0.6190\n",
      "Epoch 23/50\n",
      "5/5 [==============================] - 5s 1s/step - loss: 0.6569 - accuracy: 0.7647 - val_loss: 1.0732 - val_accuracy: 0.5476\n",
      "Epoch 24/50\n",
      "5/5 [==============================] - 5s 1s/step - loss: 0.5581 - accuracy: 0.7908 - val_loss: 0.8571 - val_accuracy: 0.6667\n",
      "Epoch 25/50\n",
      "5/5 [==============================] - 5s 1s/step - loss: 0.4260 - accuracy: 0.8693 - val_loss: 1.2222 - val_accuracy: 0.6667\n",
      "Epoch 26/50\n",
      "5/5 [==============================] - 5s 1s/step - loss: 0.3954 - accuracy: 0.8627 - val_loss: 0.6177 - val_accuracy: 0.7381\n",
      "Epoch 27/50\n",
      "5/5 [==============================] - 5s 1s/step - loss: 0.3497 - accuracy: 0.9150 - val_loss: 0.9798 - val_accuracy: 0.5952\n",
      "Epoch 28/50\n",
      "5/5 [==============================] - 5s 969ms/step - loss: 0.3080 - accuracy: 0.8758 - val_loss: 0.7930 - val_accuracy: 0.7143\n",
      "Epoch 29/50\n",
      "5/5 [==============================] - 5s 1s/step - loss: 0.2973 - accuracy: 0.9150 - val_loss: 0.7566 - val_accuracy: 0.7143\n",
      "Epoch 30/50\n",
      "5/5 [==============================] - 5s 1s/step - loss: 0.2842 - accuracy: 0.9020 - val_loss: 0.8081 - val_accuracy: 0.7143\n",
      "Epoch 31/50\n",
      "5/5 [==============================] - 5s 1s/step - loss: 0.3187 - accuracy: 0.8693 - val_loss: 0.7946 - val_accuracy: 0.8095\n",
      "Epoch 32/50\n",
      "5/5 [==============================] - 5s 988ms/step - loss: 0.2458 - accuracy: 0.9412 - val_loss: 0.7799 - val_accuracy: 0.7381\n",
      "Epoch 33/50\n",
      "5/5 [==============================] - 5s 995ms/step - loss: 0.2115 - accuracy: 0.9542 - val_loss: 0.8997 - val_accuracy: 0.7381\n",
      "Epoch 34/50\n",
      "5/5 [==============================] - 5s 989ms/step - loss: 0.2170 - accuracy: 0.9150 - val_loss: 0.7568 - val_accuracy: 0.7619\n",
      "Epoch 35/50\n",
      "5/5 [==============================] - 5s 975ms/step - loss: 0.1719 - accuracy: 0.9608 - val_loss: 0.7224 - val_accuracy: 0.7381\n",
      "Epoch 36/50\n",
      "5/5 [==============================] - 5s 1s/step - loss: 0.1603 - accuracy: 0.9608 - val_loss: 1.0214 - val_accuracy: 0.7619\n",
      "Epoch 37/50\n",
      "5/5 [==============================] - 5s 1s/step - loss: 0.1505 - accuracy: 0.9739 - val_loss: 0.5944 - val_accuracy: 0.8095\n",
      "Epoch 38/50\n",
      "5/5 [==============================] - 5s 1s/step - loss: 0.1555 - accuracy: 0.9477 - val_loss: 1.4519 - val_accuracy: 0.7381\n",
      "Epoch 39/50\n",
      "5/5 [==============================] - 5s 1s/step - loss: 0.1425 - accuracy: 0.9477 - val_loss: 0.6662 - val_accuracy: 0.7143\n",
      "Epoch 40/50\n",
      "5/5 [==============================] - 5s 1s/step - loss: 0.1050 - accuracy: 0.9673 - val_loss: 1.0249 - val_accuracy: 0.7143\n",
      "Epoch 41/50\n",
      "5/5 [==============================] - 5s 1s/step - loss: 0.1328 - accuracy: 0.9542 - val_loss: 0.9041 - val_accuracy: 0.7143\n",
      "Epoch 42/50\n",
      "5/5 [==============================] - 5s 1s/step - loss: 0.1097 - accuracy: 0.9608 - val_loss: 0.9043 - val_accuracy: 0.7143\n",
      "Epoch 43/50\n",
      "5/5 [==============================] - 5s 1s/step - loss: 0.1025 - accuracy: 0.9673 - val_loss: 1.0192 - val_accuracy: 0.7143\n",
      "Epoch 44/50\n",
      "5/5 [==============================] - 5s 998ms/step - loss: 0.1170 - accuracy: 0.9739 - val_loss: 0.8076 - val_accuracy: 0.7381\n",
      "Epoch 45/50\n",
      "5/5 [==============================] - 5s 1s/step - loss: 0.1358 - accuracy: 0.9542 - val_loss: 0.9087 - val_accuracy: 0.7619\n",
      "Epoch 46/50\n",
      "5/5 [==============================] - 5s 970ms/step - loss: 0.1672 - accuracy: 0.9346 - val_loss: 0.7059 - val_accuracy: 0.8095\n",
      "Epoch 47/50\n",
      "5/5 [==============================] - 5s 979ms/step - loss: 0.1145 - accuracy: 0.9739 - val_loss: 1.1944 - val_accuracy: 0.7143\n",
      "Epoch 48/50\n",
      "5/5 [==============================] - 5s 974ms/step - loss: 0.1206 - accuracy: 0.9673 - val_loss: 0.6747 - val_accuracy: 0.7619\n",
      "Epoch 49/50\n",
      "5/5 [==============================] - 5s 984ms/step - loss: 0.1269 - accuracy: 0.9673 - val_loss: 1.9332 - val_accuracy: 0.6190\n",
      "Epoch 50/50\n",
      "5/5 [==============================] - 5s 1s/step - loss: 0.1213 - accuracy: 0.9673 - val_loss: 0.7323 - val_accuracy: 0.8095\n"
     ]
    }
   ],
   "source": [
    "# fit the model\n",
    "from PIL import _imaging\n",
    "from PIL import Image\n",
    "import PIL\n",
    "# Run the cell. It will take some time to execute\n",
    "r = Classifier.fit_generator(\n",
    "  training_set,\n",
    "  validation_data=test_set,\n",
    "  epochs=50,\n",
    "  steps_per_epoch=len(training_set),\n",
    "  validation_steps=len(test_set)\n",
    ")"
   ]
  },
  {
   "cell_type": "code",
   "execution_count": 21,
   "metadata": {},
   "outputs": [
    {
     "data": {
      "text/plain": [
       "{'loss': [9.13146686553955,\n",
       "  2.360239267349243,\n",
       "  1.954251766204834,\n",
       "  1.9337197542190552,\n",
       "  1.8729044198989868,\n",
       "  1.7916144132614136,\n",
       "  1.748288631439209,\n",
       "  1.6226903200149536,\n",
       "  1.472517967224121,\n",
       "  1.3693310022354126,\n",
       "  1.316243290901184,\n",
       "  1.1239560842514038,\n",
       "  0.9751037359237671,\n",
       "  0.9733523726463318,\n",
       "  0.8788268566131592,\n",
       "  0.7530002593994141,\n",
       "  0.683651864528656,\n",
       "  0.5705617070198059,\n",
       "  0.5507097244262695,\n",
       "  0.49607938528060913,\n",
       "  0.5336799025535583,\n",
       "  0.7625061273574829,\n",
       "  0.6568949818611145,\n",
       "  0.5581163167953491,\n",
       "  0.42601102590560913,\n",
       "  0.39541757106781006,\n",
       "  0.3497285842895508,\n",
       "  0.3080008625984192,\n",
       "  0.297343373298645,\n",
       "  0.28419047594070435,\n",
       "  0.3187050521373749,\n",
       "  0.24578483402729034,\n",
       "  0.2115161418914795,\n",
       "  0.21700546145439148,\n",
       "  0.1719338595867157,\n",
       "  0.16034431755542755,\n",
       "  0.15051566064357758,\n",
       "  0.15552105009555817,\n",
       "  0.1424737274646759,\n",
       "  0.10495441406965256,\n",
       "  0.1328161209821701,\n",
       "  0.10971185564994812,\n",
       "  0.10245513916015625,\n",
       "  0.11701207607984543,\n",
       "  0.13577041029930115,\n",
       "  0.16724559664726257,\n",
       "  0.11454153060913086,\n",
       "  0.12057841569185257,\n",
       "  0.1268811672925949,\n",
       "  0.12125718593597412],\n",
       " 'accuracy': [0.11764705926179886,\n",
       "  0.1437908560037613,\n",
       "  0.1895424872636795,\n",
       "  0.16339869797229767,\n",
       "  0.2875817120075226,\n",
       "  0.2810457646846771,\n",
       "  0.3529411852359772,\n",
       "  0.3202614486217499,\n",
       "  0.4771241843700409,\n",
       "  0.48366013169288635,\n",
       "  0.4444444477558136,\n",
       "  0.6209150552749634,\n",
       "  0.6405228972434998,\n",
       "  0.6143791079521179,\n",
       "  0.673202633857727,\n",
       "  0.7254902124404907,\n",
       "  0.7647058963775635,\n",
       "  0.8169934749603271,\n",
       "  0.8169934749603271,\n",
       "  0.7973856329917908,\n",
       "  0.8169934749603271,\n",
       "  0.7058823704719543,\n",
       "  0.7647058963775635,\n",
       "  0.7908496856689453,\n",
       "  0.8692810535430908,\n",
       "  0.8627451062202454,\n",
       "  0.915032684803009,\n",
       "  0.8758170008659363,\n",
       "  0.915032684803009,\n",
       "  0.9019607901573181,\n",
       "  0.8692810535430908,\n",
       "  0.9411764740943909,\n",
       "  0.9542483687400818,\n",
       "  0.915032684803009,\n",
       "  0.9607843160629272,\n",
       "  0.9607843160629272,\n",
       "  0.9738562107086182,\n",
       "  0.9477124214172363,\n",
       "  0.9477124214172363,\n",
       "  0.9673202633857727,\n",
       "  0.9542483687400818,\n",
       "  0.9607843160629272,\n",
       "  0.9673202633857727,\n",
       "  0.9738562107086182,\n",
       "  0.9542483687400818,\n",
       "  0.9346405267715454,\n",
       "  0.9738562107086182,\n",
       "  0.9673202633857727,\n",
       "  0.9673202633857727,\n",
       "  0.9673202633857727],\n",
       " 'val_loss': [3.308377981185913,\n",
       "  1.9818084239959717,\n",
       "  1.9302198886871338,\n",
       "  1.8782826662063599,\n",
       "  1.777334451675415,\n",
       "  1.7542964220046997,\n",
       "  1.6607509851455688,\n",
       "  1.561540126800537,\n",
       "  1.3344825506210327,\n",
       "  1.389922857284546,\n",
       "  1.0873929262161255,\n",
       "  1.0736316442489624,\n",
       "  1.0412721633911133,\n",
       "  1.0861070156097412,\n",
       "  1.0619206428527832,\n",
       "  0.9207954406738281,\n",
       "  1.0451654195785522,\n",
       "  0.8644787669181824,\n",
       "  0.9591473340988159,\n",
       "  0.9041010737419128,\n",
       "  0.9521411657333374,\n",
       "  1.0370814800262451,\n",
       "  1.0732266902923584,\n",
       "  0.8570834398269653,\n",
       "  1.2221561670303345,\n",
       "  0.617672860622406,\n",
       "  0.9798431396484375,\n",
       "  0.7930338978767395,\n",
       "  0.7565943002700806,\n",
       "  0.8080664277076721,\n",
       "  0.7945600152015686,\n",
       "  0.7799499034881592,\n",
       "  0.8996959924697876,\n",
       "  0.7568293213844299,\n",
       "  0.7224319577217102,\n",
       "  1.0213631391525269,\n",
       "  0.5944131016731262,\n",
       "  1.4518502950668335,\n",
       "  0.6661904454231262,\n",
       "  1.0249245166778564,\n",
       "  0.9041241407394409,\n",
       "  0.9042753577232361,\n",
       "  1.0191662311553955,\n",
       "  0.8075785040855408,\n",
       "  0.9086792469024658,\n",
       "  0.7059283256530762,\n",
       "  1.194406270980835,\n",
       "  0.6746594309806824,\n",
       "  1.933167815208435,\n",
       "  0.7323082685470581],\n",
       " 'val_accuracy': [0.1428571492433548,\n",
       "  0.1428571492433548,\n",
       "  0.1666666716337204,\n",
       "  0.2142857164144516,\n",
       "  0.2857142984867096,\n",
       "  0.3571428656578064,\n",
       "  0.380952388048172,\n",
       "  0.3095238208770752,\n",
       "  0.523809552192688,\n",
       "  0.4761904776096344,\n",
       "  0.523809552192688,\n",
       "  0.523809552192688,\n",
       "  0.5714285969734192,\n",
       "  0.5952380895614624,\n",
       "  0.5476190447807312,\n",
       "  0.6666666865348816,\n",
       "  0.5952380895614624,\n",
       "  0.6666666865348816,\n",
       "  0.6666666865348816,\n",
       "  0.6190476417541504,\n",
       "  0.5714285969734192,\n",
       "  0.6190476417541504,\n",
       "  0.5476190447807312,\n",
       "  0.6666666865348816,\n",
       "  0.6666666865348816,\n",
       "  0.738095223903656,\n",
       "  0.5952380895614624,\n",
       "  0.7142857313156128,\n",
       "  0.7142857313156128,\n",
       "  0.7142857313156128,\n",
       "  0.8095238208770752,\n",
       "  0.738095223903656,\n",
       "  0.738095223903656,\n",
       "  0.761904776096344,\n",
       "  0.738095223903656,\n",
       "  0.761904776096344,\n",
       "  0.8095238208770752,\n",
       "  0.738095223903656,\n",
       "  0.7142857313156128,\n",
       "  0.7142857313156128,\n",
       "  0.7142857313156128,\n",
       "  0.7142857313156128,\n",
       "  0.7142857313156128,\n",
       "  0.738095223903656,\n",
       "  0.761904776096344,\n",
       "  0.8095238208770752,\n",
       "  0.7142857313156128,\n",
       "  0.761904776096344,\n",
       "  0.6190476417541504,\n",
       "  0.8095238208770752]}"
      ]
     },
     "execution_count": 21,
     "metadata": {},
     "output_type": "execute_result"
    }
   ],
   "source": [
    "r.history"
   ]
  },
  {
   "cell_type": "code",
   "execution_count": 22,
   "metadata": {},
   "outputs": [
    {
     "data": {
      "image/png": "[encoded data removed]",
      "text/plain": [
       "<Figure size 432x288 with 1 Axes>"
      ]
     },
     "metadata": {
      "needs_background": "light"
     },
     "output_type": "display_data"
    },
    {
     "data": {
      "image/png": "[encoded data removed]",
      "text/plain": [
       "<Figure size 432x288 with 1 Axes>"
      ]
     },
     "metadata": {
      "needs_background": "light"
     },
     "output_type": "display_data"
    },
    {
     "data": {
      "text/plain": [
       "<Figure size 432x288 with 0 Axes>"
      ]
     },
     "metadata": {},
     "output_type": "display_data"
    }
   ],
   "source": [
    "import matplotlib.pyplot as plt\n",
    "# plot the loss\n",
    "plt.plot(r.history['loss'], label='train loss')\n",
    "plt.plot(r.history['val_loss'], label='val loss')\n",
    "plt.legend()\n",
    "plt.show()\n",
    "plt.savefig('LossVal_loss')\n",
    "\n",
    "# plot the accuracy\n",
    "plt.plot(r.history['accuracy'], label='train acc')\n",
    "plt.plot(r.history['val_accuracy'], label='val acc')\n",
    "plt.legend()\n",
    "plt.show()\n",
    "plt.savefig('AccVal_acc')"
   ]
  },
  {
   "cell_type": "code",
   "execution_count": 24,
   "metadata": {},
   "outputs": [],
   "source": [
    "# save it as a h5 file\n",
    "\n",
    "\n",
    "from tensorflow.keras.models import load_model\n",
    "\n",
    "Classifier.save('model_Classifier.h5')"
   ]
  },
  {
   "cell_type": "code",
   "execution_count": 26,
   "metadata": {},
   "outputs": [
    {
     "name": "stderr",
     "output_type": "stream",
     "text": [
      "D:\\anaconda\\lib\\site-packages\\PIL\\TiffImagePlugin.py:788: UserWarning: Corrupt EXIF data.  Expecting to read 4 bytes but only got 0. \n",
      "  warnings.warn(str(msg))\n"
     ]
    }
   ],
   "source": [
    "y_pred = Classifier.predict(test_set)"
   ]
  },
  {
   "cell_type": "code",
   "execution_count": 27,
   "metadata": {},
   "outputs": [
    {
     "data": {
      "text/plain": [
       "array([[1.54952886e-08, 1.48733154e-01, 3.92441734e-06, 7.06659222e-04,\n",
       "        5.83588474e-07, 8.24966609e-01, 2.55890023e-02],\n",
       "       [6.56544983e-01, 3.04698106e-02, 1.13279551e-01, 1.78582013e-01,\n",
       "        1.96539145e-02, 1.31985627e-03, 1.49913030e-04],\n",
       "       [4.73314434e-01, 1.46178172e-08, 8.68385752e-10, 1.74508232e-03,\n",
       "        5.17580688e-01, 2.88498040e-06, 7.35692540e-03],\n",
       "       [1.67271474e-09, 1.61351090e-05, 1.29450268e-06, 3.89754023e-05,\n",
       "        4.62208703e-07, 9.99487519e-01, 4.55639965e-04],\n",
       "       [2.56147295e-15, 9.99958277e-01, 4.11306995e-11, 4.73060851e-07,\n",
       "        5.84491982e-13, 3.91363355e-05, 2.17466072e-06],\n",
       "       [4.78215334e-08, 1.13009615e-03, 1.34893838e-07, 1.32550520e-06,\n",
       "        5.24679422e-07, 5.09602427e-01, 4.89265442e-01],\n",
       "       [1.16224321e-07, 1.70615260e-02, 7.99535485e-07, 8.57483974e-06,\n",
       "        2.28615386e-06, 2.97684669e-02, 9.53158200e-01],\n",
       "       [7.54232425e-03, 8.91129332e-07, 7.44681847e-06, 9.02806580e-01,\n",
       "        5.29640645e-04, 5.32797072e-04, 8.85803699e-02],\n",
       "       [3.00092681e-04, 4.37644892e-04, 7.77158039e-06, 2.84331180e-02,\n",
       "        3.48334928e-04, 9.37651157e-01, 3.28218676e-02],\n",
       "       [8.85876000e-01, 2.15674277e-07, 1.62577424e-02, 3.15085948e-02,\n",
       "        6.17602393e-02, 4.53885179e-03, 5.82857356e-05],\n",
       "       [6.99034645e-05, 6.09638207e-08, 9.99929786e-01, 1.51203949e-09,\n",
       "        6.19561680e-10, 4.52234801e-08, 2.82646795e-07],\n",
       "       [8.47471310e-05, 1.28773134e-03, 9.98524487e-01, 1.14097281e-06,\n",
       "        1.93859869e-05, 2.07735866e-05, 6.16809048e-05],\n",
       "       [3.49001435e-04, 2.01901884e-07, 2.07386925e-08, 6.98617601e-04,\n",
       "        9.98818576e-01, 6.60873484e-05, 6.75167612e-05],\n",
       "       [1.31018396e-06, 9.75715339e-01, 3.44234962e-07, 7.44732749e-03,\n",
       "        6.52960152e-04, 1.44994082e-02, 1.68329256e-03],\n",
       "       [3.89983015e-08, 9.45705235e-01, 8.16415024e-07, 1.54000390e-05,\n",
       "        3.50889337e-07, 3.41201387e-02, 2.01579742e-02],\n",
       "       [2.01495340e-07, 9.95940804e-01, 5.77200262e-06, 2.08964266e-05,\n",
       "        8.45738100e-07, 2.54131691e-03, 1.49013544e-03],\n",
       "       [7.46118928e-07, 9.49895322e-01, 1.00174123e-06, 3.80486064e-03,\n",
       "        3.51762992e-07, 2.64257565e-02, 1.98720135e-02],\n",
       "       [1.62082305e-03, 6.71193379e-11, 3.51221381e-08, 1.67957594e-04,\n",
       "        9.95150149e-01, 3.06016486e-03, 8.17434227e-07],\n",
       "       [3.29701513e-01, 1.77920258e-04, 6.68519437e-01, 2.25669082e-05,\n",
       "        1.42757490e-03, 2.11002698e-05, 1.29893189e-04],\n",
       "       [5.43689239e-04, 6.22638443e-04, 9.98678148e-01, 3.90114947e-05,\n",
       "        1.83027240e-07, 2.90637536e-06, 1.13304348e-04],\n",
       "       [6.41962217e-09, 1.26987917e-03, 3.15023074e-09, 6.99870100e-08,\n",
       "        2.91398930e-04, 9.98161376e-01, 2.77202256e-04],\n",
       "       [6.82351620e-10, 8.82817030e-01, 1.32278075e-07, 2.10268234e-04,\n",
       "        1.06277822e-08, 9.28498879e-02, 2.41226722e-02],\n",
       "       [2.56147295e-15, 9.99958277e-01, 4.11306995e-11, 4.73060851e-07,\n",
       "        5.84491982e-13, 3.91363355e-05, 2.17466072e-06],\n",
       "       [1.19820228e-02, 2.02368619e-03, 9.85538244e-01, 3.81243699e-05,\n",
       "        3.25838846e-05, 8.08563636e-05, 3.04540794e-04],\n",
       "       [8.70935619e-05, 1.14602189e-13, 1.72623166e-11, 3.07492400e-07,\n",
       "        9.99912620e-01, 8.00717881e-10, 8.29330826e-10],\n",
       "       [5.82656031e-03, 1.63967739e-09, 2.87852497e-09, 9.02097863e-09,\n",
       "        9.94170189e-01, 2.92366985e-06, 3.70177531e-07],\n",
       "       [4.20586775e-06, 1.82697899e-03, 2.63976744e-06, 7.64994383e-01,\n",
       "        1.00907433e-04, 1.21719435e-01, 1.11351453e-01],\n",
       "       [3.66490967e-05, 9.24216437e-09, 8.60990515e-11, 4.92781247e-08,\n",
       "        9.99961019e-01, 2.08545521e-06, 2.14775426e-07],\n",
       "       [7.40586221e-01, 6.05279172e-04, 4.22644051e-04, 4.09604944e-02,\n",
       "        5.77431023e-02, 1.50478333e-02, 1.44634396e-01],\n",
       "       [1.86138541e-01, 1.12561941e-06, 8.13169420e-01, 1.51428294e-05,\n",
       "        6.72898837e-04, 1.04001674e-06, 1.76195510e-06],\n",
       "       [2.07262172e-08, 9.81177926e-01, 9.72421716e-08, 1.49885582e-05,\n",
       "        7.01053636e-07, 1.33016445e-02, 5.50468359e-03],\n",
       "       [2.05156542e-02, 6.13151863e-03, 1.22156460e-03, 5.27074700e-03,\n",
       "        5.19690700e-02, 7.45191649e-02, 8.40372264e-01],\n",
       "       [1.50385449e-05, 3.51859897e-01, 1.64677665e-04, 4.65847790e-01,\n",
       "        4.16570911e-05, 1.61601827e-02, 1.65910736e-01],\n",
       "       [2.24272771e-05, 2.63331890e-01, 6.61963539e-04, 1.20222321e-04,\n",
       "        1.59270974e-04, 6.32711470e-01, 1.02992631e-01],\n",
       "       [1.44608194e-07, 7.09046749e-03, 3.59787032e-06, 2.11769482e-03,\n",
       "        3.85300955e-05, 9.90590990e-01, 1.58629802e-04],\n",
       "       [3.40357547e-05, 1.14716077e-10, 5.67054004e-09, 1.10564491e-04,\n",
       "        9.99855399e-01, 6.01989747e-09, 1.58640072e-12],\n",
       "       [1.11771468e-02, 3.49932611e-06, 8.59191823e-06, 2.23956769e-03,\n",
       "        9.85884607e-01, 6.29149319e-04, 5.75169906e-05],\n",
       "       [8.97252083e-01, 1.03152877e-06, 2.53698267e-02, 1.79679785e-02,\n",
       "        5.40852670e-06, 5.64611554e-02, 2.94242636e-03],\n",
       "       [8.49497542e-02, 8.43019589e-05, 9.07708287e-01, 3.04835034e-04,\n",
       "        5.26593681e-07, 5.16334083e-03, 1.78896950e-03],\n",
       "       [1.54952886e-08, 1.48733154e-01, 3.92441734e-06, 7.06659222e-04,\n",
       "        5.83588474e-07, 8.24966609e-01, 2.55890023e-02],\n",
       "       [5.28095692e-11, 3.30687180e-04, 2.01701295e-10, 6.16381669e-07,\n",
       "        1.86876452e-11, 1.24826413e-02, 9.87186134e-01],\n",
       "       [3.89285991e-03, 2.54159003e-11, 9.46459688e-10, 1.56325768e-05,\n",
       "        9.96083260e-01, 4.72933743e-06, 3.41568489e-06]], dtype=float32)"
      ]
     },
     "execution_count": 27,
     "metadata": {},
     "output_type": "execute_result"
    }
   ],
   "source": [
    "y_pred"
   ]
  },
  {
   "cell_type": "code",
   "execution_count": 28,
   "metadata": {},
   "outputs": [],
   "source": [
    "import numpy as np\n",
    "y_pred = np.argmax(y_pred, axis=1)"
   ]
  },
  {
   "cell_type": "code",
   "execution_count": 29,
   "metadata": {},
   "outputs": [
    {
     "data": {
      "text/plain": [
       "array([5, 0, 4, 5, 1, 5, 6, 3, 5, 0, 2, 2, 4, 1, 1, 1, 1, 4, 2, 2, 5, 1,\n",
       "       1, 2, 4, 4, 3, 4, 0, 2, 1, 6, 3, 5, 5, 4, 4, 0, 2, 5, 6, 4],\n",
       "      dtype=int64)"
      ]
     },
     "execution_count": 29,
     "metadata": {},
     "output_type": "execute_result"
    }
   ],
   "source": [
    "y_pred"
   ]
  },
  {
   "cell_type": "code",
   "execution_count": 30,
   "metadata": {},
   "outputs": [],
   "source": [
    "from tensorflow.keras.models import load_model\n",
    "from tensorflow.keras.preprocessing import image"
   ]
  },
  {
   "cell_type": "code",
   "execution_count": 32,
   "metadata": {},
   "outputs": [],
   "source": [
    "model=load_model('model_Classifier.h5')"
   ]
  },
  {
   "cell_type": "code",
   "execution_count": 47,
   "metadata": {},
   "outputs": [],
   "source": [
    "img=image.load_img('C:/Users/gaurav sahani/Desktop/Deep Learning Projects/Indian Currency Classifier/Datasets/Train/Tennote/4.jpg',target_size=(224,224))"
   ]
  },
  {
   "cell_type": "code",
   "execution_count": 48,
   "metadata": {},
   "outputs": [
    {
     "data": {
      "image/png": "[encoded data removed]",
      "text/plain": [
       "<PIL.Image.Image image mode=RGB size=224x224 at 0x2A58AA969C8>"
      ]
     },
     "execution_count": 48,
     "metadata": {},
     "output_type": "execute_result"
    }
   ],
   "source": [
    "img"
   ]
  },
  {
   "cell_type": "code",
   "execution_count": 49,
   "metadata": {},
   "outputs": [],
   "source": [
    "test_image=image.img_to_array(img)\n",
    "test_image=np.expand_dims(test_image, axis = 0)"
   ]
  },
  {
   "cell_type": "code",
   "execution_count": 50,
   "metadata": {},
   "outputs": [
    {
     "data": {
      "text/plain": [
       "array([[0., 0., 0., 0., 0., 1., 0.]], dtype=float32)"
      ]
     },
     "execution_count": 50,
     "metadata": {},
     "output_type": "execute_result"
    }
   ],
   "source": [
    "result = Classifier.predict(test_image)\n",
    "result"
   ]
  },
  {
   "cell_type": "code",
   "execution_count": 51,
   "metadata": {},
   "outputs": [],
   "source": [
    "a=np.argmax(model.predict(test_image), axis=1)"
   ]
  },
  {
   "cell_type": "code",
   "execution_count": 54,
   "metadata": {},
   "outputs": [
    {
     "data": {
      "text/plain": [
       "array([ True])"
      ]
     },
     "execution_count": 54,
     "metadata": {},
     "output_type": "execute_result"
    }
   ],
   "source": [
    "a==5"
   ]
  },
  {
   "cell_type": "code",
   "execution_count": null,
   "metadata": {},
   "outputs": [],
   "source": []
  }
 ],
 "metadata": {
  "kernelspec": {
   "display_name": "Python 3",
   "language": "python",
   "name": "python3"
  },
  "language_info": {
   "codemirror_mode": {
    "name": "ipython",
    "version": 3
   },
   "file_extension": ".py",
   "mimetype": "text/x-python",
   "name": "python",
   "nbconvert_exporter": "python",
   "pygments_lexer": "ipython3",
   "version": "3.7.6"
  }
 },
 "nbformat": 4,
 "nbformat_minor": 4
}
